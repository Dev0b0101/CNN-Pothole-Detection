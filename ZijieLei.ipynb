{
 "cells": [
  {
   "cell_type": "code",
   "execution_count": 3,
   "outputs": [],
   "source": [
    "pothole_path = '/Users/zijielei/PycharmProjects/mindspark-hackathon-Huixian-Gong/Dataset/Pothole'\n",
    "normal_path = '/Users/zijielei/PycharmProjects/mindspark-hackathon-Huixian-Gong/Dataset/Normal'"
   ],
   "metadata": {
    "collapsed": false,
    "ExecuteTime": {
     "start_time": "2023-09-16T23:06:47.121507Z"
    }
   },
   "id": "initial_id"
  },
  {
   "cell_type": "code",
   "execution_count": null,
   "outputs": [],
   "source": [
    "import os\n",
    "# List all files in the directory\n",
    "image_files = os.listdir(pothole_path)\n",
    "\n",
    "# Sort the files to ensure consistent numbering\n",
    "image_files.sort()\n",
    "\n",
    "# Initialize an index counter\n",
    "index = 1\n",
    "\n",
    "# Loop through the image files and rename them\n",
    "for image_file in image_files:\n",
    "    # Check if the file is an image (you can add more image extensions as needed)\n",
    "    if image_file.endswith(('.jpg', '.jpeg', '.png', '.gif', '.bmp')):\n",
    "        # Generate the new filename with the index\n",
    "        new_filename = f\"{index:04d}.jpg\"  # Adjust the format as needed (e.g., {index}.jpg)\n",
    "        \n",
    "        # Construct the full paths to the old and new filenames\n",
    "        old_path = os.path.join(pothole_path, image_file)\n",
    "        new_path = os.path.join(pothole_path, new_filename)\n",
    "        \n",
    "        # Rename the file\n",
    "        os.rename(old_path, new_path)\n",
    "        \n",
    "        # Increment the index\n",
    "        index += 1\n",
    "\n",
    "print(\"Images renamed and indexed successfully.\")\n"
   ],
   "metadata": {
    "collapsed": false
   },
   "id": "be5aadf64a23ae2c"
  },
  {
   "cell_type": "code",
   "execution_count": null,
   "outputs": [],
   "source": [
    "import os\n",
    "\n",
    "# Replace 'path_to_images' with the path to the directory containing your images.\n",
    "\n",
    "# List all files in the directory\n",
    "image_files = os.listdir(normal_path)\n",
    "\n",
    "# Sort the files to ensure consistent numbering\n",
    "image_files.sort()\n",
    "\n",
    "# Initialize an index counter\n",
    "index = 1\n",
    "\n",
    "# Loop through the image files and rename them\n",
    "for image_file in image_files:\n",
    "    # Check if the file is an image (you can add more image extensions as needed)\n",
    "    if image_file.endswith(('.jpg', '.jpeg', '.png', '.gif', '.bmp')):\n",
    "        # Generate the new filename with the index\n",
    "        new_filename = f\"{index:04d}.jpg\"  # Adjust the format as needed (e.g., {index}.jpg)\n",
    "        \n",
    "        # Construct the full paths to the old and new filenames\n",
    "        old_path = os.path.join(normal_path, image_file)\n",
    "        new_path = os.path.join(normal_path, new_filename)\n",
    "        \n",
    "        # Rename the file\n",
    "        os.rename(old_path, new_path)\n",
    "        \n",
    "        # Increment the index\n",
    "        index += 1\n",
    "\n",
    "print(\"Images renamed and indexed successfully.\")\n"
   ],
   "metadata": {
    "collapsed": false
   },
   "id": "3a5760963e0bff7e"
  },
  {
   "cell_type": "code",
   "execution_count": 4,
   "outputs": [
    {
     "data": {
      "text/plain": "704"
     },
     "execution_count": 4,
     "metadata": {},
     "output_type": "execute_result"
    }
   ],
   "source": [
    "import cv2\n",
    "import os\n",
    "import matplotlib.pyplot as plt\n",
    "\n",
    "# Directory containing the images\n",
    "\n",
    "# List all image files in the directory\n",
    "pothole_images = [f for f in os.listdir(pothole_path) if f.endswith(('.jpg', '.jpeg', '.png', '.gif'))]\n",
    "\n",
    "# Initialize a list to store the loaded images\n",
    "pothole = []\n",
    "\n",
    "# Loop through the image files and load each image\n",
    "\n",
    "for image_file in pothole_images:\n",
    "    image_path = os.path.join(pothole_path, image_file)\n",
    "    image = cv2.imread(image_path)\n",
    "    \n",
    "    if image is not None:\n",
    "        pothole.append(image)\n",
    "    else:\n",
    "        print(f\"Could not load image: {image_path}\")\n",
    "\n",
    "len(pothole)"
   ],
   "metadata": {
    "collapsed": false,
    "ExecuteTime": {
     "end_time": "2023-09-16T23:06:55.324659Z",
     "start_time": "2023-09-16T23:06:50.839618Z"
    }
   },
   "id": "5220aa256976885b"
  },
  {
   "cell_type": "code",
   "execution_count": 5,
   "outputs": [
    {
     "data": {
      "text/plain": "492"
     },
     "execution_count": 5,
     "metadata": {},
     "output_type": "execute_result"
    }
   ],
   "source": [
    "import cv2\n",
    "import os\n",
    "import matplotlib.pyplot as plt\n",
    "\n",
    "# Directory containing the images\n",
    "\n",
    "# List all image files in the directory\n",
    "normal_images = [f for f in os.listdir(normal_path) if f.endswith(('.jpg', '.jpeg', '.png', '.gif'))]\n",
    "\n",
    "# Initialize a list to store the loaded images\n",
    "normal = []\n",
    "\n",
    "# Loop through the image files and load each image\n",
    "for image_file in normal_images:\n",
    "    image_path = os.path.join(normal_path, image_file)\n",
    "    image = cv2.imread(image_path)\n",
    "    \n",
    "    if image is not None:\n",
    "        normal.append(image)\n",
    "    else:\n",
    "        print(f\"Could not load image: {image_path}\")\n",
    "\n",
    "len(normal)"
   ],
   "metadata": {
    "collapsed": false,
    "ExecuteTime": {
     "end_time": "2023-09-16T23:06:56.132528Z",
     "start_time": "2023-09-16T23:06:55.324352Z"
    }
   },
   "id": "3f93d7740dae3a9e"
  },
  {
   "cell_type": "code",
   "execution_count": 6,
   "outputs": [
    {
     "name": "stdout",
     "output_type": "stream",
     "text": [
      "Max width pixels: 2365\n",
      "Min width pixels: 140\n",
      "Max height pixels: 3200\n",
      "Min height pixels: 300\n",
      "Avg width pixels: 377.47585227272725\n",
      "Avg height pixels: 490.67897727272725\n"
     ]
    }
   ],
   "source": [
    "from statistics import mean\n",
    "\n",
    "print(\"Max width pixels: \" + str(max([i.shape[0] for i in pothole])))\n",
    "print(\"Min width pixels: \" + str(min([i.shape[0] for i in pothole])))\n",
    "print(\"Max height pixels: \" + str(max([i.shape[1] for i in pothole])))\n",
    "print(\"Min height pixels: \" + str(min([i.shape[1] for i in pothole])))\n",
    "print(\"Avg width pixels: \" + str(mean([i.shape[0] for i in pothole])))\n",
    "print(\"Avg height pixels: \" + str(mean([i.shape[1] for i in pothole])))"
   ],
   "metadata": {
    "collapsed": false,
    "ExecuteTime": {
     "end_time": "2023-09-16T23:06:56.135364Z",
     "start_time": "2023-09-16T23:06:56.133969Z"
    }
   },
   "id": "d8ef3afca07ce00a"
  },
  {
   "cell_type": "code",
   "execution_count": 21,
   "outputs": [
    {
     "data": {
      "text/plain": "<Figure size 640x480 with 1 Axes>",
      "image/png": "[encoded data removed]"
     },
     "metadata": {},
     "output_type": "display_data"
    }
   ],
   "source": [
    "normal_ratio = [i.shape[0] / i.shape[1] for i in normal]\n",
    "plt.hist(normal_ratio, bins=20, edgecolor='black')  # 'bins' determines the number of bins or bars\n",
    "plt.xlabel('Ratio')\n",
    "plt.ylabel('Frequency')\n",
    "plt.title('Ratio distribution for normal images')\n",
    "plt.grid(True)  # Add a grid for clarity, optional\n",
    "plt.show()"
   ],
   "metadata": {
    "collapsed": false,
    "ExecuteTime": {
     "end_time": "2023-09-16T23:43:35.698824Z",
     "start_time": "2023-09-16T23:43:35.645326Z"
    }
   },
   "id": "24ec95c1d958b1a7"
  },
  {
   "cell_type": "code",
   "execution_count": 24,
   "outputs": [
    {
     "data": {
      "text/plain": "<Figure size 640x480 with 1 Axes>",
      "image/png": "[encoded data removed]"
     },
     "metadata": {},
     "output_type": "display_data"
    }
   ],
   "source": [
    "pothole_ratio = [i.shape[0] / i.shape[1] for i in pothole]\n",
    "plt.hist(pothole_ratio, bins=20, edgecolor='black')  # 'bins' determines the number of bins or bars\n",
    "plt.xlabel('Ratio')\n",
    "plt.ylabel('Frequency')\n",
    "plt.title('Ratio distribution for pothole images')\n",
    "plt.grid(True)  # Add a grid for clarity, optional\n",
    "plt.show()"
   ],
   "metadata": {
    "collapsed": false,
    "ExecuteTime": {
     "end_time": "2023-09-16T23:48:50.755602Z",
     "start_time": "2023-09-16T23:48:50.695201Z"
    }
   },
   "id": "be58f43737232db6"
  }
 ],
 "metadata": {
  "kernelspec": {
   "display_name": "Python 3",
   "language": "python",
   "name": "python3"
  },
  "language_info": {
   "codemirror_mode": {
    "name": "ipython",
    "version": 2
   },
   "file_extension": ".py",
   "mimetype": "text/x-python",
   "name": "python",
   "nbconvert_exporter": "python",
   "pygments_lexer": "ipython2",
   "version": "2.7.6"
  }
 },
 "nbformat": 4,
 "nbformat_minor": 5
}
