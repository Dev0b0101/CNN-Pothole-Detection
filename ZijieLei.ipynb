{
 "cells": [
  {
   "cell_type": "code",
   "execution_count": 1,
   "id": "initial_id",
   "metadata": {
    "collapsed": true,
    "ExecuteTime": {
     "end_time": "2023-09-16T22:56:05.620319Z",
     "start_time": "2023-09-16T22:56:05.617984Z"
    }
   },
   "outputs": [],
   "source": [
    "pothole_path = '/Users/zijielei/PycharmProjects/mindspark-hackathon-Huixian-Gong/Dataset/Pothole'\n",
    "normal_path = '/Users/zijielei/PycharmProjects/mindspark-hackathon-Huixian-Gong/Dataset/Normal'"
   ]
  },
  {
   "cell_type": "code",
   "execution_count": null,
   "outputs": [],
   "source": [
    "import os\n",
    "# List all files in the directory\n",
    "image_files = os.listdir(pothole_path)\n",
    "\n",
    "# Sort the files to ensure consistent numbering\n",
    "image_files.sort()\n",
    "\n",
    "# Initialize an index counter\n",
    "index = 1\n",
    "\n",
    "# Loop through the image files and rename them\n",
    "for image_file in image_files:\n",
    "    # Check if the file is an image (you can add more image extensions as needed)\n",
    "    if image_file.endswith(('.jpg', '.jpeg', '.png', '.gif', '.bmp')):\n",
    "        # Generate the new filename with the index\n",
    "        new_filename = f\"{index:04d}.jpg\"  # Adjust the format as needed (e.g., {index}.jpg)\n",
    "        \n",
    "        # Construct the full paths to the old and new filenames\n",
    "        old_path = os.path.join(pothole_path, image_file)\n",
    "        new_path = os.path.join(pothole_path, new_filename)\n",
    "        \n",
    "        # Rename the file\n",
    "        os.rename(old_path, new_path)\n",
    "        \n",
    "        # Increment the index\n",
    "        index += 1\n",
    "\n",
    "print(\"Images renamed and indexed successfully.\")\n"
   ],
   "metadata": {
    "collapsed": false
   },
   "id": "be5aadf64a23ae2c"
  },
  {
   "cell_type": "code",
   "execution_count": null,
   "outputs": [],
   "source": [
    "import os\n",
    "\n",
    "# Replace 'path_to_images' with the path to the directory containing your images.\n",
    "\n",
    "# List all files in the directory\n",
    "image_files = os.listdir(normal_path)\n",
    "\n",
    "# Sort the files to ensure consistent numbering\n",
    "image_files.sort()\n",
    "\n",
    "# Initialize an index counter\n",
    "index = 1\n",
    "\n",
    "# Loop through the image files and rename them\n",
    "for image_file in image_files:\n",
    "    # Check if the file is an image (you can add more image extensions as needed)\n",
    "    if image_file.endswith(('.jpg', '.jpeg', '.png', '.gif', '.bmp')):\n",
    "        # Generate the new filename with the index\n",
    "        new_filename = f\"{index:04d}.jpg\"  # Adjust the format as needed (e.g., {index}.jpg)\n",
    "        \n",
    "        # Construct the full paths to the old and new filenames\n",
    "        old_path = os.path.join(normal_path, image_file)\n",
    "        new_path = os.path.join(normal_path, new_filename)\n",
    "        \n",
    "        # Rename the file\n",
    "        os.rename(old_path, new_path)\n",
    "        \n",
    "        # Increment the index\n",
    "        index += 1\n",
    "\n",
    "print(\"Images renamed and indexed successfully.\")\n"
   ],
   "metadata": {
    "collapsed": false
   },
   "id": "3a5760963e0bff7e"
  },
  {
   "cell_type": "code",
   "execution_count": null,
   "outputs": [],
   "source": [
    "import cv2\n",
    "import os\n",
    "import matplotlib.pyplot as plt\n",
    "\n",
    "# Directory containing the images\n",
    "\n",
    "# List all image files in the directory\n",
    "pothole_images = [f for f in os.listdir(pothole_path) if f.endswith(('.jpg', '.jpeg', '.png', '.gif'))]\n",
    "\n",
    "# Initialize a list to store the loaded images\n",
    "pothole = []\n",
    "\n",
    "# Loop through the image files and load each image\n",
    "\n",
    "for image_file in pothole_images:\n",
    "    image_path = os.path.join(pothole_path, image_file)\n",
    "    image = cv2.imread(image_path)\n",
    "    \n",
    "    if image is not None:\n",
    "        pothole.append(image)\n",
    "    else:\n",
    "        print(f\"Could not load image: {image_path}\")\n",
    "\n",
    "len(pothole)"
   ],
   "metadata": {
    "collapsed": false
   },
   "id": "5220aa256976885b"
  },
  {
   "cell_type": "code",
   "execution_count": null,
   "outputs": [],
   "source": [
    "import cv2\n",
    "import os\n",
    "import matplotlib.pyplot as plt\n",
    "\n",
    "# Directory containing the images\n",
    "\n",
    "# List all image files in the directory\n",
    "normal_images = [f for f in os.listdir(normal_path) if f.endswith(('.jpg', '.jpeg', '.png', '.gif'))]\n",
    "\n",
    "# Initialize a list to store the loaded images\n",
    "normal = []\n",
    "\n",
    "# Loop through the image files and load each image\n",
    "for image_file in normal_images:\n",
    "    image_path = os.path.join(normal_path, image_file)\n",
    "    image = cv2.imread(image_path)\n",
    "    \n",
    "    if image is not None:\n",
    "        normal.append(image)\n",
    "    else:\n",
    "        print(f\"Could not load image: {image_path}\")\n",
    "\n",
    "len(normal)"
   ],
   "metadata": {
    "collapsed": false
   },
   "id": "3f93d7740dae3a9e"
  },
  {
   "cell_type": "code",
   "execution_count": null,
   "outputs": [],
   "source": [
    "from statistics import mean\n",
    "\n",
    "print(\"Max width pixels: \" + str(max([i.shape[0] for i in pothole])))\n",
    "print(\"Min width pixels: \" + str(min([i.shape[0] for i in pothole])))\n",
    "print(\"Max height pixels: \" + str(max([i.shape[1] for i in pothole])))\n",
    "print(\"Min height pixels: \" + str(min([i.shape[1] for i in pothole])))\n",
    "print(\"Avg width pixels: \" + str(mean([i.shape[0] for i in pothole])))\n",
    "print(\"Avg height pixels: \" + str(mean([i.shape[1] for i in pothole])))"
   ],
   "metadata": {
    "collapsed": false
   },
   "id": "d8ef3afca07ce00a"
  }
 ],
 "metadata": {
  "kernelspec": {
   "display_name": "Python 3",
   "language": "python",
   "name": "python3"
  },
  "language_info": {
   "codemirror_mode": {
    "name": "ipython",
    "version": 2
   },
   "file_extension": ".py",
   "mimetype": "text/x-python",
   "name": "python",
   "nbconvert_exporter": "python",
   "pygments_lexer": "ipython2",
   "version": "2.7.6"
  }
 },
 "nbformat": 4,
 "nbformat_minor": 5
}
