{
 "cells": [
  {
   "cell_type": "code",
   "execution_count": 10,
   "metadata": {},
   "outputs": [],
   "source": [
    "import os\n",
    "from os import listdir\n",
    "import cv2\n",
    "\n",
    "folder_dir = \"/Users/kaizheng/Documents/MindSpark/mindspark-hackathon-Huixian-Gong/Dataset/Pothole\"\n",
    "size_w = 300\n",
    "size_d = 300\n",
    "point = (size_w, size_d)\n",
    "#resized_im = cv2.resize(im, point, interpolation=cv2.INTER_LINEAR)\n",
    "new_folder_dir = \"/Users/kaizheng/Documents/MindSpark/mindspark-hackathon-Huixian-Gong/Dataset/resized_Pothole\"\n",
    "#cv2.imwrite(new_folder_dir+\"0001.jpg\", resized_im)\n",
    "#cv2.imshow(\"Original Image\",resized_im)\n",
    "#cv2.waitKey()\n",
    "#cv2.destroyAllWindows()\n",
    "#cv2.waitKey()\n",
    "lst_pothole = []\n",
    "for images in os.listdir(folder_dir):\n",
    "    if (images.endswith(\".jpg\")):\n",
    "        im = cv2.imread(folder_dir+\"/\"+images)\n",
    "        resized_im = cv2.resize(im, point, interpolation=cv2.INTER_LINEAR)\n",
    "        cv2.imwrite(new_folder_dir+\"/\"+images, resized_im)\n",
    "        lst_pothole.append(resized_im)"
   ]
  },
  {
   "cell_type": "code",
   "execution_count": 11,
   "metadata": {},
   "outputs": [],
   "source": [
    "import os\n",
    "from os import listdir\n",
    "import cv2\n",
    "\n",
    "folder_dir = \"/Users/kaizheng/Documents/MindSpark/mindspark-hackathon-Huixian-Gong/Dataset/Normal\"\n",
    "#im = cv2.imread(folder_dir+\"/\"+\"0030.jpg\")\n",
    "#cv2.imshow(\"Original Image\",im)\n",
    "#cv2.waitKey()\n",
    "size_w = 300\n",
    "size_d = 300\n",
    "point = (size_w, size_d)\n",
    "#resized_im = cv2.resize(im, point, interpolation=cv2.INTER_LINEAR)\n",
    "new_folder_dir = \"/Users/kaizheng/Documents/MindSpark/mindspark-hackathon-Huixian-Gong/Dataset/resized_Normal\"\n",
    "#cv2.imwrite(new_folder_dir+\"0001.jpg\", resized_im)\n",
    "#cv2.imshow(\"Original Image\",resized_im)\n",
    "#cv2.waitKey()\n",
    "#cv2.destroyAllWindows()\n",
    "#cv2.waitKey()\n",
    "lst_normal = []\n",
    "for images in os.listdir(folder_dir):\n",
    "    if (images.endswith(\".jpg\")):\n",
    "        im = cv2.imread(folder_dir+\"/\"+images)\n",
    "        resized_im = cv2.resize(im, point, interpolation=cv2.INTER_LINEAR)\n",
    "        lst_normal.append(resized_im)\n",
    "        cv2.imwrite(new_folder_dir+\"/\"+images, resized_im)\n"
   ]
  },
  {
   "cell_type": "code",
   "execution_count": 12,
   "metadata": {},
   "outputs": [
    {
     "data": {
      "text/plain": [
       "(300, 300, 3)"
      ]
     },
     "execution_count": 12,
     "metadata": {},
     "output_type": "execute_result"
    }
   ],
   "source": [
    "lst_pothole[0].shape"
   ]
  },
  {
   "cell_type": "code",
   "execution_count": 13,
   "metadata": {},
   "outputs": [
    {
     "data": {
      "text/plain": [
       "(300, 300, 3)"
      ]
     },
     "execution_count": 13,
     "metadata": {},
     "output_type": "execute_result"
    }
   ],
   "source": [
    "lst_normal[0].shape"
   ]
  }
 ],
 "metadata": {
  "kernelspec": {
   "display_name": "Python 3",
   "language": "python",
   "name": "python3"
  },
  "language_info": {
   "codemirror_mode": {
    "name": "ipython",
    "version": 3
   },
   "file_extension": ".py",
   "mimetype": "text/x-python",
   "name": "python",
   "nbconvert_exporter": "python",
   "pygments_lexer": "ipython3",
   "version": "3.11.3"
  },
  "orig_nbformat": 4
 },
 "nbformat": 4,
 "nbformat_minor": 2
}
