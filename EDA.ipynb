{
 "cells": [
  {
   "cell_type": "code",
   "execution_count": 13,
   "metadata": {
    "collapsed": true,
    "ExecuteTime": {
     "end_time": "2023-09-16T21:03:14.713188Z",
     "start_time": "2023-09-16T21:03:14.702104Z"
    }
   },
   "outputs": [
    {
     "ename": "FileNotFoundError",
     "evalue": "[Errno 2] No such file or directory: '/Users/zijielei/Desktop/funzy/mindspark-hackathon-Huixian-Gong/Dataset/Pothole'",
     "output_type": "error",
     "traceback": [
      "\u001B[0;31m---------------------------------------------------------------------------\u001B[0m",
      "\u001B[0;31mFileNotFoundError\u001B[0m                         Traceback (most recent call last)",
      "Cell \u001B[0;32mIn[13], line 7\u001B[0m\n\u001B[1;32m      4\u001B[0m directory_path \u001B[38;5;241m=\u001B[39m \u001B[38;5;124m'\u001B[39m\u001B[38;5;124m/Users/zijielei/Desktop/funzy/mindspark-hackathon-Huixian-Gong/Dataset/Pothole\u001B[39m\u001B[38;5;124m'\u001B[39m\n\u001B[1;32m      6\u001B[0m \u001B[38;5;66;03m# Get a list of all files in the directory\u001B[39;00m\n\u001B[0;32m----> 7\u001B[0m file_list \u001B[38;5;241m=\u001B[39m os\u001B[38;5;241m.\u001B[39mlistdir(directory_path)\n\u001B[1;32m      9\u001B[0m \u001B[38;5;66;03m# Sort the files alphabetically (optional)\u001B[39;00m\n\u001B[1;32m     10\u001B[0m file_list\u001B[38;5;241m.\u001B[39msort()\n",
      "\u001B[0;31mFileNotFoundError\u001B[0m: [Errno 2] No such file or directory: '/Users/zijielei/Desktop/funzy/mindspark-hackathon-Huixian-Gong/Dataset/Pothole'"
     ]
    }
   ],
   "source": [
    "import os\n",
    "\n",
    "# Specify the directory path containing the files you want to rename\n",
    "directory_path = '/Users/zijielei/Desktop/funzy/mindspark-hackathon-Huixian-Gong/Dataset/Pothole'\n",
    "\n",
    "# Get a list of all files in the directory\n",
    "file_list = os.listdir(directory_path)\n",
    "\n",
    "# Sort the files alphabetically (optional)\n",
    "file_list.sort()\n",
    "\n",
    "# Iterate through the files and rename them with an index\n",
    "for index, filename in enumerate(file_list):\n",
    "    # Define the new filename with the index (you can customize the format)\n",
    "    new_filename = f\"{index + 1}.jpg\"  # For example, 1.jpg, 2.jpg, 3.jpg, ...\n",
    "    \n",
    "    # Construct the full path for both the old and new filenames\n",
    "    old_file_path = os.path.join(directory_path, filename)\n",
    "    new_file_path = os.path.join(directory_path, new_filename)\n",
    "    \n",
    "    # Rename the file\n",
    "    \n",
    "    os.rename(old_file_path, new_file_path)\n"
   ]
  },
  {
   "cell_type": "code",
   "execution_count": null,
   "outputs": [],
   "source": [
    "import os\n",
    "\n",
    "# Specify the directory path containing the files you want to rename\n",
    "directory_path = '/Users/zijielei/Desktop/funzy/mindspark-hackathon-Huixian-Gong/Dataset/Normal'\n",
    "\n",
    "# Get a list of all files in the directory\n",
    "file_list = os.listdir(directory_path)\n",
    "\n",
    "# Sort the files alphabetically (optional)\n",
    "file_list.sort()\n",
    "\n",
    "# Iterate through the files and rename them with an index\n",
    "for index, filename in enumerate(file_list):\n",
    "    # Define the new filename with the index (you can customize the format)\n",
    "    new_filename = f\"{index + 1}.jpg\"  # For example, 1.jpg, 2.jpg, 3.jpg, ...\n",
    "    \n",
    "    # Construct the full path for both the old and new filenames\n",
    "    old_file_path = os.path.join(directory_path, filename)\n",
    "    new_file_path = os.path.join(directory_path, new_filename)\n",
    "    \n",
    "    # Rename the file\n",
    "    \n",
    "    os.rename(old_file_path, new_file_path)\n"
   ],
   "metadata": {
    "collapsed": false
   }
  }
 ],
 "metadata": {
  "kernelspec": {
   "display_name": "Python 3",
   "language": "python",
   "name": "python3"
  },
  "language_info": {
   "codemirror_mode": {
    "name": "ipython",
    "version": 2
   },
   "file_extension": ".py",
   "mimetype": "text/x-python",
   "name": "python",
   "nbconvert_exporter": "python",
   "pygments_lexer": "ipython2",
   "version": "2.7.6"
  }
 },
 "nbformat": 4,
 "nbformat_minor": 0
}
