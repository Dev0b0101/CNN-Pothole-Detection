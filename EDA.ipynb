{
 "cells": [
  {
   "cell_type": "code",
   "execution_count": 23,
   "outputs": [],
   "source": [
    "pothole_path = '/Users/zijielei/PycharmProjects/mindspark-hackathon-Huixian-Gong/Dataset/Pothole'\n",
    "normal_path = '/Users/zijielei/PycharmProjects/mindspark-hackathon-Huixian-Gong/Dataset/Normal'"
   ],
   "metadata": {
    "collapsed": false,
    "ExecuteTime": {
     "end_time": "2023-09-16T22:34:55.477631Z",
     "start_time": "2023-09-16T22:34:55.472374Z"
    }
   }
  },
  {
   "cell_type": "code",
   "execution_count": 24,
   "outputs": [
    {
     "name": "stdout",
     "output_type": "stream",
     "text": [
      "Images renamed and indexed successfully.\n"
     ]
    }
   ],
   "source": [
    "import os\n",
    "# List all files in the directory\n",
    "image_files = os.listdir(pothole_path)\n",
    "\n",
    "# Sort the files to ensure consistent numbering\n",
    "image_files.sort()\n",
    "\n",
    "# Initialize an index counter\n",
    "index = 1\n",
    "\n",
    "# Loop through the image files and rename them\n",
    "for image_file in image_files:\n",
    "    # Check if the file is an image (you can add more image extensions as needed)\n",
    "    if image_file.endswith(('.jpg', '.jpeg', '.png', '.gif', '.bmp')):\n",
    "        # Generate the new filename with the index\n",
    "        new_filename = f\"{index:04d}.jpg\"  # Adjust the format as needed (e.g., {index}.jpg)\n",
    "        \n",
    "        # Construct the full paths to the old and new filenames\n",
    "        old_path = os.path.join(pothole_path, image_file)\n",
    "        new_path = os.path.join(pothole_path, new_filename)\n",
    "        \n",
    "        # Rename the file\n",
    "        os.rename(old_path, new_path)\n",
    "        \n",
    "        # Increment the index\n",
    "        index += 1\n",
    "\n",
    "print(\"Images renamed and indexed successfully.\")\n"
   ],
   "metadata": {
    "collapsed": false,
    "jupyter": {
     "outputs_hidden": true
    },
    "ExecuteTime": {
     "end_time": "2023-09-16T22:34:56.156483Z",
     "start_time": "2023-09-16T22:34:56.120517Z"
    }
   }
  },
  {
   "cell_type": "code",
   "execution_count": 25,
   "metadata": {
    "collapsed": false,
    "ExecuteTime": {
     "end_time": "2023-09-16T22:34:57.953706Z",
     "start_time": "2023-09-16T22:34:57.929813Z"
    }
   },
   "outputs": [
    {
     "name": "stdout",
     "output_type": "stream",
     "text": [
      "Images renamed and indexed successfully.\n"
     ]
    }
   ],
   "source": [
    "import os\n",
    "\n",
    "# Replace 'path_to_images' with the path to the directory containing your images.\n",
    "\n",
    "# List all files in the directory\n",
    "image_files = os.listdir(normal_path)\n",
    "\n",
    "# Sort the files to ensure consistent numbering\n",
    "image_files.sort()\n",
    "\n",
    "# Initialize an index counter\n",
    "index = 1\n",
    "\n",
    "# Loop through the image files and rename them\n",
    "for image_file in image_files:\n",
    "    # Check if the file is an image (you can add more image extensions as needed)\n",
    "    if image_file.endswith(('.jpg', '.jpeg', '.png', '.gif', '.bmp')):\n",
    "        # Generate the new filename with the index\n",
    "        new_filename = f\"{index:04d}.jpg\"  # Adjust the format as needed (e.g., {index}.jpg)\n",
    "        \n",
    "        # Construct the full paths to the old and new filenames\n",
    "        old_path = os.path.join(normal_path, image_file)\n",
    "        new_path = os.path.join(normal_path, new_filename)\n",
    "        \n",
    "        # Rename the file\n",
    "        os.rename(old_path, new_path)\n",
    "        \n",
    "        # Increment the index\n",
    "        index += 1\n",
    "\n",
    "print(\"Images renamed and indexed successfully.\")\n"
   ]
  },
  {
   "cell_type": "code",
   "execution_count": 30,
   "metadata": {
    "collapsed": false,
    "ExecuteTime": {
     "end_time": "2023-09-16T22:38:26.574969Z",
     "start_time": "2023-09-16T22:38:22.521164Z"
    }
   },
   "outputs": [
    {
     "data": {
      "text/plain": "704"
     },
     "execution_count": 30,
     "metadata": {},
     "output_type": "execute_result"
    }
   ],
   "source": [
    "import cv2\n",
    "import os\n",
    "import matplotlib.pyplot as plt\n",
    "\n",
    "# Directory containing the images\n",
    "\n",
    "# List all image files in the directory\n",
    "pothole_images = [f for f in os.listdir(pothole_path) if f.endswith(('.jpg', '.jpeg', '.png', '.gif'))]\n",
    "\n",
    "# Initialize a list to store the loaded images\n",
    "pothole = []\n",
    "\n",
    "# Loop through the image files and load each image\n",
    "\n",
    "for image_file in pothole_images:\n",
    "    image_path = os.path.join(pothole_path, image_file)\n",
    "    image = cv2.imread(image_path)\n",
    "    \n",
    "    if image is not None:\n",
    "        pothole.append(image)\n",
    "    else:\n",
    "        print(f\"Could not load image: {image_path}\")\n",
    "\n",
    "len(pothole)\n"
   ]
  },
  {
   "cell_type": "code",
   "execution_count": 31,
   "outputs": [
    {
     "data": {
      "text/plain": "492"
     },
     "execution_count": 31,
     "metadata": {},
     "output_type": "execute_result"
    }
   ],
   "source": [
    "import cv2\n",
    "import os\n",
    "import matplotlib.pyplot as plt\n",
    "\n",
    "# Directory containing the images\n",
    "\n",
    "# List all image files in the directory\n",
    "normal_images = [f for f in os.listdir(normal_path) if f.endswith(('.jpg', '.jpeg', '.png', '.gif'))]\n",
    "\n",
    "# Initialize a list to store the loaded images\n",
    "normal = []\n",
    "\n",
    "# Loop through the image files and load each image\n",
    "for image_file in normal_images:\n",
    "    image_path = os.path.join(normal_path, image_file)\n",
    "    image = cv2.imread(image_path)\n",
    "    \n",
    "    if image is not None:\n",
    "        normal.append(image)\n",
    "    else:\n",
    "        print(f\"Could not load image: {image_path}\")\n",
    "\n",
    "len(normal)\n"
   ],
   "metadata": {
    "collapsed": false,
    "ExecuteTime": {
     "end_time": "2023-09-16T22:38:34.801528Z",
     "start_time": "2023-09-16T22:38:34.026506Z"
    }
   }
  },
  {
   "cell_type": "code",
   "execution_count": null,
   "outputs": [],
   "source": [],
   "metadata": {
    "collapsed": false
   }
  }
 ],
 "metadata": {
  "kernelspec": {
   "display_name": "Python 3 (ipykernel)",
   "language": "python",
   "name": "python3"
  },
  "language_info": {
   "codemirror_mode": {
    "name": "ipython",
    "version": 3
   },
   "file_extension": ".py",
   "mimetype": "text/x-python",
   "name": "python",
   "nbconvert_exporter": "python",
   "pygments_lexer": "ipython3",
   "version": "3.11.3"
  }
 },
 "nbformat": 4,
 "nbformat_minor": 4
}
