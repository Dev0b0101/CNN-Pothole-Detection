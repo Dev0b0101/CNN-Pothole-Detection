{
 "cells": [
  {
   "cell_type": "code",
   "execution_count": 5,
   "metadata": {
    "ExecuteTime": {
     "end_time": "2023-09-16T22:16:25.038981Z",
     "start_time": "2023-09-16T22:16:24.990312Z"
    },
    "collapsed": true
   },
   "outputs": [
    {
     "data": {
      "text/plain": [
       "'\\nimport os\\n\\n# Replace \\'path_to_images\\' with the path to the directory containing your images.\\npath_to_images = \\'/Users/zijielei/PycharmProjects/mindspark-hackathon-Huixian-Gong/Dataset/Normal\\'\\n\\n\\n# List all files in the directory\\nimage_files = os.listdir(path_to_images)\\n\\n# Sort the files to ensure consistent numbering\\nimage_files.sort()\\n\\n# Initialize an index counter\\nindex = 1\\n\\n# Loop through the image files and rename them\\nfor image_file in image_files:\\n    # Check if the file is an image (you can add more image extensions as needed)\\n    if image_file.endswith((\\'.jpg\\', \\'.jpeg\\', \\'.png\\', \\'.gif\\', \\'.bmp\\')):\\n        # Generate the new filename with the index\\n        new_filename = f\"{index:04d}.jpg\"  # Adjust the format as needed (e.g., {index}.jpg)\\n        \\n        # Construct the full paths to the old and new filenames\\n        old_path = os.path.join(path_to_images, image_file)\\n        new_path = os.path.join(path_to_images, new_filename)\\n        \\n        # Rename the file\\n        os.rename(old_path, new_path)\\n        \\n        # Increment the index\\n        index += 1\\n\\nprint(\"Images renamed and indexed successfully.\")\\n\\n'"
      ]
     },
     "execution_count": 5,
     "metadata": {},
     "output_type": "execute_result"
    }
   ],
   "source": [
    "'''\n",
    "import os\n",
    "\n",
    "# Replace 'path_to_images' with the path to the directory containing your images.\n",
    "path_to_images = '/Users/zijielei/PycharmProjects/mindspark-hackathon-Huixian-Gong/Dataset/Normal'\n",
    "\n",
    "\n",
    "# List all files in the directory\n",
    "image_files = os.listdir(path_to_images)\n",
    "\n",
    "# Sort the files to ensure consistent numbering\n",
    "image_files.sort()\n",
    "\n",
    "# Initialize an index counter\n",
    "index = 1\n",
    "\n",
    "# Loop through the image files and rename them\n",
    "for image_file in image_files:\n",
    "    # Check if the file is an image (you can add more image extensions as needed)\n",
    "    if image_file.endswith(('.jpg', '.jpeg', '.png', '.gif', '.bmp')):\n",
    "        # Generate the new filename with the index\n",
    "        new_filename = f\"{index:04d}.jpg\"  # Adjust the format as needed (e.g., {index}.jpg)\n",
    "        \n",
    "        # Construct the full paths to the old and new filenames\n",
    "        old_path = os.path.join(path_to_images, image_file)\n",
    "        new_path = os.path.join(path_to_images, new_filename)\n",
    "        \n",
    "        # Rename the file\n",
    "        os.rename(old_path, new_path)\n",
    "        \n",
    "        # Increment the index\n",
    "        index += 1\n",
    "\n",
    "print(\"Images renamed and indexed successfully.\")\n",
    "\n",
    "'''"
   ]
  },
  {
   "cell_type": "code",
   "execution_count": 6,
   "metadata": {
    "ExecuteTime": {
     "end_time": "2023-09-16T22:16:25.813573Z",
     "start_time": "2023-09-16T22:16:25.775853Z"
    },
    "collapsed": false
   },
   "outputs": [
    {
     "data": {
      "text/plain": [
       "'\\nimport os\\n\\n# Replace \\'path_to_images\\' with the path to the directory containing your images.\\npath_to_images = \\'/Users/zijielei/PycharmProjects/mindspark-hackathon-Huixian-Gong/Dataset/Pothole\\'\\n\\n\\n# List all files in the directory\\nimage_files = os.listdir(path_to_images)\\n\\n# Sort the files to ensure consistent numbering\\nimage_files.sort()\\n\\n# Initialize an index counter\\nindex = 1\\n\\n# Loop through the image files and rename them\\nfor image_file in image_files:\\n    # Check if the file is an image (you can add more image extensions as needed)\\n    if image_file.endswith((\\'.jpg\\', \\'.jpeg\\', \\'.png\\', \\'.gif\\', \\'.bmp\\')):\\n        # Generate the new filename with the index\\n        new_filename = f\"{index:04d}.jpg\"  # Adjust the format as needed (e.g., {index}.jpg)\\n        \\n        # Construct the full paths to the old and new filenames\\n        old_path = os.path.join(path_to_images, image_file)\\n        new_path = os.path.join(path_to_images, new_filename)\\n        \\n        # Rename the file\\n        os.rename(old_path, new_path)\\n        \\n        # Increment the index\\n        index += 1\\n\\nprint(\"Images renamed and indexed successfully.\")\\n'"
      ]
     },
     "execution_count": 6,
     "metadata": {},
     "output_type": "execute_result"
    }
   ],
   "source": [
    "'''\n",
    "import os\n",
    "\n",
    "# Replace 'path_to_images' with the path to the directory containing your images.\n",
    "path_to_images = '/Users/zijielei/PycharmProjects/mindspark-hackathon-Huixian-Gong/Dataset/Pothole'\n",
    "\n",
    "\n",
    "# List all files in the directory\n",
    "image_files = os.listdir(path_to_images)\n",
    "\n",
    "# Sort the files to ensure consistent numbering\n",
    "image_files.sort()\n",
    "\n",
    "# Initialize an index counter\n",
    "index = 1\n",
    "\n",
    "# Loop through the image files and rename them\n",
    "for image_file in image_files:\n",
    "    # Check if the file is an image (you can add more image extensions as needed)\n",
    "    if image_file.endswith(('.jpg', '.jpeg', '.png', '.gif', '.bmp')):\n",
    "        # Generate the new filename with the index\n",
    "        new_filename = f\"{index:04d}.jpg\"  # Adjust the format as needed (e.g., {index}.jpg)\n",
    "        \n",
    "        # Construct the full paths to the old and new filenames\n",
    "        old_path = os.path.join(path_to_images, image_file)\n",
    "        new_path = os.path.join(path_to_images, new_filename)\n",
    "        \n",
    "        # Rename the file\n",
    "        os.rename(old_path, new_path)\n",
    "        \n",
    "        # Increment the index\n",
    "        index += 1\n",
    "\n",
    "print(\"Images renamed and indexed successfully.\")\n",
    "'''"
   ]
  },
  {
   "cell_type": "code",
   "execution_count": 2,
   "metadata": {
    "collapsed": false
   },
   "outputs": [
    {
     "name": "stdout",
     "output_type": "stream",
     "text": [
      "File count: 493\n",
      "File count: 705\n"
     ]
    }
   ],
   "source": [
    "# import os\n",
    "# os.system(\"pwd\")\n",
    "# os.system(\"ls\")\n",
    "# Normal_Pic_count = os.system(\"ls Dataset/Normal | wc -l\")\n",
    "# Pothole_Pic_count = os.system(\"ls Dataset/Pothole/ | wc -l\")\n",
    "\n",
    "import os\n",
    "\n",
    "# folder path\n",
    "Normal_dir_path = r'Dataset/Normal'\n",
    "Normal_count = 0\n",
    "# Iterate directory\n",
    "for path in os.listdir(Normal_dir_path):\n",
    "    # check if current path is a file\n",
    "    if os.path.isfile(os.path.join(Normal_dir_path, path)):\n",
    "        Normal_count += 1\n",
    "print('File count:', Normal_count)\n",
    "\n",
    "Pothole_dir_path = r'Dataset/Pothole/'\n",
    "Pothole_count = 0\n",
    "# Iterate directory\n",
    "for path in os.listdir(Pothole_dir_path):\n",
    "    # check if current path is a file\n",
    "    if os.path.isfile(os.path.join(Pothole_dir_path, path)):\n",
    "        Pothole_count += 1\n",
    "print('File count:', Pothole_count)\n"
   ]
  },
  {
   "cell_type": "code",
   "execution_count": 6,
   "metadata": {},
   "outputs": [
    {
     "data": {
      "text/plain": [
       "<BarContainer object of 1 artists>"
      ]
     },
     "execution_count": 6,
     "metadata": {},
     "output_type": "execute_result"
    },
    {
     "data": {
      "image/png": "[encoded data removed]",
      "text/plain": [
       "<Figure size 640x480 with 1 Axes>"
      ]
     },
     "metadata": {},
     "output_type": "display_data"
    }
   ],
   "source": [
    "import matplotlib.pyplot as plt\n",
    "\n",
    "plt.bar('Normal_Count', Normal_count)\n",
    "plt.bar('Pothole_count', Pothole_count)\n"
   ]
  }
 ],
 "metadata": {
  "kernelspec": {
   "display_name": "Python 3",
   "language": "python",
   "name": "python3"
  },
  "language_info": {
   "codemirror_mode": {
    "name": "ipython",
    "version": 3
   },
   "file_extension": ".py",
   "mimetype": "text/x-python",
   "name": "python",
   "nbconvert_exporter": "python",
   "pygments_lexer": "ipython3",
   "version": "3.11.4"
  }
 },
 "nbformat": 4,
 "nbformat_minor": 0
}
