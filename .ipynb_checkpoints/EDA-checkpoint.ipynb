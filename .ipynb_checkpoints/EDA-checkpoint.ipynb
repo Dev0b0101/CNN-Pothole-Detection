{
 "cells": [
  {
   "cell_type": "code",
   "execution_count": 10,
   "metadata": {
    "collapsed": true,
    "ExecuteTime": {
     "end_time": "2023-09-16T22:16:25.038981Z",
     "start_time": "2023-09-16T22:16:24.990312Z"
    }
   },
   "outputs": [
    {
     "name": "stdout",
     "output_type": "stream",
     "text": [
      "Images renamed and indexed successfully.\n"
     ]
    }
   ],
   "source": [
    "import os\n",
    "\n",
    "# Replace 'path_to_images' with the path to the directory containing your images.\n",
    "path_to_images = '/Users/zijielei/PycharmProjects/mindspark-hackathon-Huixian-Gong/Dataset/Normal'\n",
    "\n",
    "\n",
    "# List all files in the directory\n",
    "image_files = os.listdir(path_to_images)\n",
    "\n",
    "# Sort the files to ensure consistent numbering\n",
    "image_files.sort()\n",
    "\n",
    "# Initialize an index counter\n",
    "index = 1\n",
    "\n",
    "# Loop through the image files and rename them\n",
    "for image_file in image_files:\n",
    "    # Check if the file is an image (you can add more image extensions as needed)\n",
    "    if image_file.endswith(('.jpg', '.jpeg', '.png', '.gif', '.bmp')):\n",
    "        # Generate the new filename with the index\n",
    "        new_filename = f\"{index:04d}.jpg\"  # Adjust the format as needed (e.g., {index}.jpg)\n",
    "        \n",
    "        # Construct the full paths to the old and new filenames\n",
    "        old_path = os.path.join(path_to_images, image_file)\n",
    "        new_path = os.path.join(path_to_images, new_filename)\n",
    "        \n",
    "        # Rename the file\n",
    "        os.rename(old_path, new_path)\n",
    "        \n",
    "        # Increment the index\n",
    "        index += 1\n",
    "\n",
    "print(\"Images renamed and indexed successfully.\")\n"
   ]
  },
  {
   "cell_type": "code",
   "execution_count": 11,
   "outputs": [
    {
     "name": "stdout",
     "output_type": "stream",
     "text": [
      "Images renamed and indexed successfully.\n"
     ]
    }
   ],
   "source": [
    "import os\n",
    "\n",
    "# Replace 'path_to_images' with the path to the directory containing your images.\n",
    "path_to_images = '/Users/zijielei/PycharmProjects/mindspark-hackathon-Huixian-Gong/Dataset/Pothole'\n",
    "\n",
    "\n",
    "# List all files in the directory\n",
    "image_files = os.listdir(path_to_images)\n",
    "\n",
    "# Sort the files to ensure consistent numbering\n",
    "image_files.sort()\n",
    "\n",
    "# Initialize an index counter\n",
    "index = 1\n",
    "\n",
    "# Loop through the image files and rename them\n",
    "for image_file in image_files:\n",
    "    # Check if the file is an image (you can add more image extensions as needed)\n",
    "    if image_file.endswith(('.jpg', '.jpeg', '.png', '.gif', '.bmp')):\n",
    "        # Generate the new filename with the index\n",
    "        new_filename = f\"{index:04d}.jpg\"  # Adjust the format as needed (e.g., {index}.jpg)\n",
    "        \n",
    "        # Construct the full paths to the old and new filenames\n",
    "        old_path = os.path.join(path_to_images, image_file)\n",
    "        new_path = os.path.join(path_to_images, new_filename)\n",
    "        \n",
    "        # Rename the file\n",
    "        os.rename(old_path, new_path)\n",
    "        \n",
    "        # Increment the index\n",
    "        index += 1\n",
    "\n",
    "print(\"Images renamed and indexed successfully.\")\n"
   ],
   "metadata": {
    "collapsed": false,
    "ExecuteTime": {
     "end_time": "2023-09-16T22:16:25.813573Z",
     "start_time": "2023-09-16T22:16:25.775853Z"
    }
   }
  },
  {
   "cell_type": "code",
   "execution_count": null,
   "outputs": [],
   "source": [],
   "metadata": {
    "collapsed": false
   }
  }
 ],
 "metadata": {
  "kernelspec": {
   "display_name": "Python 3",
   "language": "python",
   "name": "python3"
  },
  "language_info": {
   "codemirror_mode": {
    "name": "ipython",
    "version": 3
   },
   "file_extension": ".py",
   "mimetype": "text/x-python",
   "name": "python",
   "nbconvert_exporter": "python",
   "pygments_lexer": "ipython3",
   "version": "3.11.4"
  }
 },
 "nbformat": 4,
 "nbformat_minor": 0
}
